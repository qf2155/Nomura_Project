{
 "cells": [
  {
   "cell_type": "code",
   "execution_count": 2,
   "id": "20699984",
   "metadata": {},
   "outputs": [],
   "source": [
    "import numpy as np\n",
    "import pandas as pd\n",
    "import matplotlib.pyplot as plt\n",
    "plt.style.use('seaborn')"
   ]
  },
  {
   "cell_type": "code",
   "execution_count": 3,
   "id": "a3613bb9",
   "metadata": {},
   "outputs": [
    {
     "name": "stderr",
     "output_type": "stream",
     "text": [
      "/Users/qimingfeng/opt/anaconda3/lib/python3.9/site-packages/IPython/core/interactiveshell.py:3444: DtypeWarning: Columns (26,27,29,33,40,43,62,63,66,71,111,112,113,114) have mixed types.Specify dtype option on import or set low_memory=False.\n",
      "  exec(code_obj, self.user_global_ns, self.user_ns)\n",
      "/Users/qimingfeng/opt/anaconda3/lib/python3.9/site-packages/IPython/core/interactiveshell.py:3444: DtypeWarning: Columns (27,33,40,43,63,66,71,111,112,113,114) have mixed types.Specify dtype option on import or set low_memory=False.\n",
      "  exec(code_obj, self.user_global_ns, self.user_ns)\n"
     ]
    }
   ],
   "source": [
    "fnm1 = pd.read_csv('FNM_MLLD_202109.txt', sep=\"|\")\n",
    "fnm2 = pd.read_csv('FNM_MLLD_202110.txt', sep=\"|\")"
   ]
  },
  {
   "cell_type": "code",
   "execution_count": 4,
   "id": "d1b4bea8",
   "metadata": {},
   "outputs": [
    {
     "name": "stderr",
     "output_type": "stream",
     "text": [
      "/Users/qimingfeng/opt/anaconda3/lib/python3.9/site-packages/IPython/core/interactiveshell.py:3444: DtypeWarning: Columns (27,33,40,43,63,71,111,112,113,114) have mixed types.Specify dtype option on import or set low_memory=False.\n",
      "  exec(code_obj, self.user_global_ns, self.user_ns)\n"
     ]
    }
   ],
   "source": [
    "fnm3 = pd.read_csv('FNM_MLLD_202111.txt', sep=\"|\")\n",
    "fnm4 = pd.read_csv('FNM_MLLD_202112.txt', sep=\"|\")"
   ]
  },
  {
   "cell_type": "code",
   "execution_count": 5,
   "id": "149700ab",
   "metadata": {},
   "outputs": [],
   "source": [
    "fnm5 = pd.read_csv('FNM_MLLD_202201.txt', sep=\"|\")\n",
    "fnm6 = pd.read_csv('FNM_MLLD_202202.txt', sep=\"|\")"
   ]
  },
  {
   "cell_type": "code",
   "execution_count": 6,
   "id": "2a37a61f",
   "metadata": {},
   "outputs": [],
   "source": [
    "def enrich_monthly_principle_payment(df):\n",
    "    df[\"Monthly Interest Rate\"] = df[\"Current Net Interest Rate\"]/1200\n",
    "    df[\"I*( 1 + I )^N\"] = df[\"Monthly Interest Rate\"]*(1+df[\"Monthly Interest Rate\"])**df[\"Loan Term\"]\n",
    "    df[\"( 1 + I )^N-1\"] = (1+df[\"Monthly Interest Rate\"])**(df[\"Loan Term\"])-1\n",
    "    df[\"Monthly payment\"] = (df[\"Mortgage Loan Amount\"]*df[\"I*( 1 + I )^N\"])/df[\"( 1 + I )^N-1\"]\n",
    "    df[\"Monthly interest\"] = df[\"Current Investor Loan UPB\"]*df[\"Monthly Interest Rate\"]\n",
    "    df[\"Monthly Principal Payment\"] = df[\"Monthly payment\"] - df[\"Monthly interest\"]\n",
    "    return df"
   ]
  },
  {
   "cell_type": "code",
   "execution_count": 7,
   "id": "1725a242",
   "metadata": {},
   "outputs": [],
   "source": [
    "def get_cpr(df1,df2, level):\n",
    "    df1_combo = df1[[level,\"Current Investor Loan UPB\",\"Monthly Principal Payment\"]]\n",
    "    df2_combo = df2[[level,\"Current Investor Loan UPB\",\"Monthly Principal Payment\"]]\n",
    "    df1_group = df1_combo.groupby(level).sum()\n",
    "    df2_group = df2_combo.groupby(level).sum()\n",
    "    df_total = pd.merge(df1_group, df2_group,on=level)\n",
    "    df_total[\"Scheduled Principle Balance\"] = df_total[\"Current Investor Loan UPB_x\"] - df_total\n",
    "    [\"Monthly Principal Payment_x\"]\n",
    "    df_total[\"Prepayment\"] = df_total[\"Scheduled Principle Balance\"] - df_total[\"Current Investor Loan UPB_y\"]\n",
    "    df_total[\"SMM\"] = df_total[\"Prepayment\"]/df_total[\"Scheduled Principle Balance\"]\n",
    "    df_total[\"CPR\"] = ((1-(1-df_total[\"SMM\"])**12))\n",
    "    df_total =  df_total.reset_index()\n",
    "    df_total_result = df_total[[level,\"CPR\"]]\n",
    "    \n",
    "    return df_total_result\n"
   ]
  },
  {
   "cell_type": "code",
   "execution_count": 8,
   "id": "6b33f234",
   "metadata": {},
   "outputs": [],
   "source": [
    "df1 = fnm1\n",
    "df1 = enrich_monthly_principle_payment(df1)\n",
    "df2 = fnm2\n",
    "df2 = enrich_monthly_principle_payment(df2)\n",
    "df3 = fnm3\n",
    "df3 = enrich_monthly_principle_payment(df3)\n",
    "df4 = fnm4\n",
    "df4 = enrich_monthly_principle_payment(df4)\n",
    "df5 = fnm5\n",
    "df5 = enrich_monthly_principle_payment(df5)\n",
    "df6 = fnm6\n",
    "df6 = enrich_monthly_principle_payment(df6)\n",
    "\n",
    "#df_CUSIP = pd.read_excel(\"cusip2.xlsx\")\n",
    "#DATA = pd.merge(result, df_CUSIP,on='CUSIP')\n",
    "#DATA\n"
   ]
  },
  {
   "cell_type": "code",
   "execution_count": 30,
   "id": "2317a24b",
   "metadata": {},
   "outputs": [],
   "source": [
    "level = \"CUSIP\" #can test for other variables\n",
    "result1 = get_cpr(df1,df2, level)\n",
    "result1.rename(columns = {'CPR':'CPR_2109-2110'}, inplace = True)\n",
    "\n",
    "result2 = get_cpr(df2,df3,level)\n",
    "result2.rename(columns = {'CPR':'CPR_2110-2111'}, inplace = True)\n",
    "\n",
    "result3 = get_cpr(df3,df4,level)\n",
    "result3.rename(columns = {'CPR':'CPR_2111-2112'}, inplace = True)\n",
    "\n",
    "result4 = get_cpr(df4,df5,level)\n",
    "result4.rename(columns = {'CPR':'CPR_2112-2201'}, inplace = True)\n",
    "\n",
    "result5 = get_cpr(df5,df6,level)\n",
    "result5.rename(columns = {'CPR':'CPR_2201-2202'}, inplace = True)"
   ]
  },
  {
   "cell_type": "code",
   "execution_count": 31,
   "id": "1ef86c03",
   "metadata": {},
   "outputs": [
    {
     "data": {
      "text/html": [
       "<div>\n",
       "<style scoped>\n",
       "    .dataframe tbody tr th:only-of-type {\n",
       "        vertical-align: middle;\n",
       "    }\n",
       "\n",
       "    .dataframe tbody tr th {\n",
       "        vertical-align: top;\n",
       "    }\n",
       "\n",
       "    .dataframe thead th {\n",
       "        text-align: right;\n",
       "    }\n",
       "</style>\n",
       "<table border=\"1\" class=\"dataframe\">\n",
       "  <thead>\n",
       "    <tr style=\"text-align: right;\">\n",
       "      <th></th>\n",
       "      <th>CUSIP</th>\n",
       "      <th>CPR_2109-2110</th>\n",
       "      <th>CPR_2110-2111</th>\n",
       "      <th>CPR_2111-2112</th>\n",
       "      <th>CPR_2112-2201</th>\n",
       "      <th>CPR_2201-2202</th>\n",
       "    </tr>\n",
       "  </thead>\n",
       "  <tbody>\n",
       "    <tr>\n",
       "      <th>0</th>\n",
       "      <td>31387LAF8</td>\n",
       "      <td>0.001629</td>\n",
       "      <td>0.001669</td>\n",
       "      <td>0.001708</td>\n",
       "      <td>0.001749</td>\n",
       "      <td>0.001791</td>\n",
       "    </tr>\n",
       "    <tr>\n",
       "      <th>1</th>\n",
       "      <td>3138ALP27</td>\n",
       "      <td>-0.001230</td>\n",
       "      <td>-0.001210</td>\n",
       "      <td>-0.001190</td>\n",
       "      <td>-0.001171</td>\n",
       "      <td>-0.001150</td>\n",
       "    </tr>\n",
       "    <tr>\n",
       "      <th>2</th>\n",
       "      <td>3138ALP35</td>\n",
       "      <td>0.003212</td>\n",
       "      <td>0.003244</td>\n",
       "      <td>0.003275</td>\n",
       "      <td>0.003307</td>\n",
       "      <td>0.008027</td>\n",
       "    </tr>\n",
       "    <tr>\n",
       "      <th>3</th>\n",
       "      <td>3138EDG96</td>\n",
       "      <td>0.355336</td>\n",
       "      <td>0.355772</td>\n",
       "      <td>0.389115</td>\n",
       "      <td>0.487954</td>\n",
       "      <td>0.640316</td>\n",
       "    </tr>\n",
       "    <tr>\n",
       "      <th>4</th>\n",
       "      <td>3138EDHB0</td>\n",
       "      <td>0.015302</td>\n",
       "      <td>0.012788</td>\n",
       "      <td>0.006408</td>\n",
       "      <td>0.025439</td>\n",
       "      <td>0.005250</td>\n",
       "    </tr>\n",
       "    <tr>\n",
       "      <th>...</th>\n",
       "      <td>...</td>\n",
       "      <td>...</td>\n",
       "      <td>...</td>\n",
       "      <td>...</td>\n",
       "      <td>...</td>\n",
       "      <td>...</td>\n",
       "    </tr>\n",
       "    <tr>\n",
       "      <th>135695</th>\n",
       "      <td>31418DZU9</td>\n",
       "      <td>0.010868</td>\n",
       "      <td>0.019693</td>\n",
       "      <td>0.036223</td>\n",
       "      <td>0.044224</td>\n",
       "      <td>0.051704</td>\n",
       "    </tr>\n",
       "    <tr>\n",
       "      <th>135696</th>\n",
       "      <td>31418DZV7</td>\n",
       "      <td>0.054237</td>\n",
       "      <td>0.056211</td>\n",
       "      <td>0.074867</td>\n",
       "      <td>0.078586</td>\n",
       "      <td>0.058333</td>\n",
       "    </tr>\n",
       "    <tr>\n",
       "      <th>135697</th>\n",
       "      <td>31418DZW5</td>\n",
       "      <td>0.100835</td>\n",
       "      <td>0.123832</td>\n",
       "      <td>0.176241</td>\n",
       "      <td>0.175964</td>\n",
       "      <td>0.139590</td>\n",
       "    </tr>\n",
       "    <tr>\n",
       "      <th>135698</th>\n",
       "      <td>31418DZX3</td>\n",
       "      <td>0.191203</td>\n",
       "      <td>0.216896</td>\n",
       "      <td>0.326621</td>\n",
       "      <td>0.383937</td>\n",
       "      <td>0.278658</td>\n",
       "    </tr>\n",
       "    <tr>\n",
       "      <th>135699</th>\n",
       "      <td>31418DZY1</td>\n",
       "      <td>0.168795</td>\n",
       "      <td>0.472784</td>\n",
       "      <td>0.555583</td>\n",
       "      <td>0.574248</td>\n",
       "      <td>0.092504</td>\n",
       "    </tr>\n",
       "  </tbody>\n",
       "</table>\n",
       "<p>135700 rows × 6 columns</p>\n",
       "</div>"
      ],
      "text/plain": [
       "            CUSIP  CPR_2109-2110  CPR_2110-2111  CPR_2111-2112  CPR_2112-2201  \\\n",
       "0       31387LAF8       0.001629       0.001669       0.001708       0.001749   \n",
       "1       3138ALP27      -0.001230      -0.001210      -0.001190      -0.001171   \n",
       "2       3138ALP35       0.003212       0.003244       0.003275       0.003307   \n",
       "3       3138EDG96       0.355336       0.355772       0.389115       0.487954   \n",
       "4       3138EDHB0       0.015302       0.012788       0.006408       0.025439   \n",
       "...           ...            ...            ...            ...            ...   \n",
       "135695  31418DZU9       0.010868       0.019693       0.036223       0.044224   \n",
       "135696  31418DZV7       0.054237       0.056211       0.074867       0.078586   \n",
       "135697  31418DZW5       0.100835       0.123832       0.176241       0.175964   \n",
       "135698  31418DZX3       0.191203       0.216896       0.326621       0.383937   \n",
       "135699  31418DZY1       0.168795       0.472784       0.555583       0.574248   \n",
       "\n",
       "        CPR_2201-2202  \n",
       "0            0.001791  \n",
       "1           -0.001150  \n",
       "2            0.008027  \n",
       "3            0.640316  \n",
       "4            0.005250  \n",
       "...               ...  \n",
       "135695       0.051704  \n",
       "135696       0.058333  \n",
       "135697       0.139590  \n",
       "135698       0.278658  \n",
       "135699       0.092504  \n",
       "\n",
       "[135700 rows x 6 columns]"
      ]
     },
     "execution_count": 31,
     "metadata": {},
     "output_type": "execute_result"
    }
   ],
   "source": [
    "Total_CPR = pd.merge(result1, result2,on=level)\n",
    "Total_CPR = pd.merge(Total_CPR, result3,on=level)\n",
    "Total_CPR = pd.merge(Total_CPR, result4,on=level)\n",
    "Total_CPR = pd.merge(Total_CPR, result5,on=level)\n",
    "Total_CPR"
   ]
  },
  {
   "cell_type": "code",
   "execution_count": 1,
   "id": "a2b468e2",
   "metadata": {},
   "outputs": [],
   "source": [
    "#pd.set_option('display.max_rows',150)\n",
    "#df_CUSIP = pd.read_excel(\"cusip2.xlsx\")\n",
    "#DATA = pd.merge(Total_CPR, df_CUSIP,on=level)\n",
    "#DATA\n",
    "#DATA.to_csv(\"CPR_Calculation_202109-202202.csv\", index = False, header=True)"
   ]
  },
  {
   "cell_type": "markdown",
   "id": "8d7ca776",
   "metadata": {},
   "source": []
  },
  {
   "cell_type": "code",
   "execution_count": null,
   "id": "21e7d7ba",
   "metadata": {},
   "outputs": [],
   "source": []
  },
  {
   "cell_type": "code",
   "execution_count": null,
   "id": "d6078027",
   "metadata": {},
   "outputs": [],
   "source": []
  }
 ],
 "metadata": {
  "kernelspec": {
   "display_name": "Python 3 (ipykernel)",
   "language": "python",
   "name": "python3"
  },
  "language_info": {
   "codemirror_mode": {
    "name": "ipython",
    "version": 3
   },
   "file_extension": ".py",
   "mimetype": "text/x-python",
   "name": "python",
   "nbconvert_exporter": "python",
   "pygments_lexer": "ipython3",
   "version": "3.9.7"
  }
 },
 "nbformat": 4,
 "nbformat_minor": 5
}
